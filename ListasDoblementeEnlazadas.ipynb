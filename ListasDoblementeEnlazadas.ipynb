{
 "cells": [
  {
   "cell_type": "markdown",
   "id": "023df3a0",
   "metadata": {},
   "source": [
    "# Crear una clase Nodo"
   ]
  },
  {
   "cell_type": "code",
   "execution_count": 18,
   "id": "5bdc3446",
   "metadata": {},
   "outputs": [],
   "source": [
    "class Node:\n",
    "    def __init__(self, data):\n",
    "        self.item = data\n",
    "        self.nref = None\n",
    "        self.pref = None"
   ]
  },
  {
   "cell_type": "markdown",
   "id": "f79716f2",
   "metadata": {},
   "source": [
    "# Crear una clase Lista Doblemente Enlazada"
   ]
  },
  {
   "cell_type": "code",
   "execution_count": 19,
   "id": "67eec35d",
   "metadata": {},
   "outputs": [],
   "source": [
    "class DoublyLinkedList:\n",
    "    def __init__(self):\n",
    "        self.start_node = None\n",
    "        \n",
    "    ###Insertar elementos en una lista vacía\n",
    "    def insert_in_emptylist(self, data):\n",
    "        if self.start_node is None:\n",
    "            new_node = Node(data)\n",
    "            self.start_node = new_node\n",
    "        else:\n",
    "            print(\"list is not empty\") \n",
    "    \n",
    "    ###Insertar datos al inicio de la lista\n",
    "    def insert_at_start(self, data):\n",
    "        if self.start_node is None:\n",
    "            new_node = Node(data)\n",
    "            self.start_node = new_node\n",
    "            print(\"node inserted\")\n",
    "            return\n",
    "        new_node = Node(data)\n",
    "        new_node.nref = self.start_node\n",
    "        self.start_node.pref = new_node\n",
    "        self.start_node = new_node\n",
    "    \n",
    "    ###insertar datos al final de la lista\n",
    "    def insert_at_end(self, data):\n",
    "        if self.start_node is None:\n",
    "            new_node = Node(data)\n",
    "            self.start_node = new_node\n",
    "            return\n",
    "        n = self.start_node\n",
    "        while n.nref is not None:\n",
    "            n = n.nref\n",
    "        new_node = Node(data)\n",
    "        n.nref = new_node\n",
    "        new_node.pref = n\n",
    "        \n",
    "    ###Insertar un elemento después de un nodo\n",
    "    def insert_after_item(self, x, data):\n",
    "        if self.start_node is None:\n",
    "            print(\"List is empty\")\n",
    "            return\n",
    "        else:\n",
    "            n = self.start_node\n",
    "            while n is not None:\n",
    "                if n.item == x:\n",
    "                    break\n",
    "                n = n.nref\n",
    "            if n is None:\n",
    "                print(\"item not in the list\")\n",
    "            else:\n",
    "                new_node = Node(data)\n",
    "                new_node.pref = n\n",
    "                new_node.nref = n.nref\n",
    "                if n.nref is not None:\n",
    "                    n.nref.prev = new_node\n",
    "                n.nref = new_node\n",
    "                \n",
    "    ###Insertar un elemento antes de un nodo           \n",
    "    def insert_before_item(self, x, data):\n",
    "        if self.start_node is None:\n",
    "            print(\"List is empty\")\n",
    "            return\n",
    "        else:\n",
    "            n = self.start_node\n",
    "            while n is not None:\n",
    "                if n.item == x:\n",
    "                    break\n",
    "                n = n.nref\n",
    "            if n is None:\n",
    "                print(\"item not in the list\")\n",
    "            else:\n",
    "                new_node = Node(data)\n",
    "                new_node.nref = n\n",
    "                new_node.pref = n.pref\n",
    "                if n.pref is not None:\n",
    "                    n.pref.nref = new_node\n",
    "                n.pref = new_node\n",
    "                \n",
    "    ###recorrer una lista doble            \n",
    "    def traverse_list(self):\n",
    "        if self.start_node is None:\n",
    "            print(\"List has no element\")\n",
    "            return\n",
    "        else:\n",
    "            n = self.start_node\n",
    "            while n is not None:\n",
    "                print(n.item , \" \")\n",
    "                n = n.nref\n",
    "    \n",
    "    ###Eliminar elemento desde el principio\n",
    "    def delete_at_start(self):\n",
    "        if self.start_node is None:\n",
    "            print(\"The list has no element to delete\")\n",
    "            return \n",
    "        if self.start_node.nref is None:\n",
    "            self.start_node = None\n",
    "            return\n",
    "        self.start_node = self.start_node.nref\n",
    "        self.start_prev = None;\n",
    "    \n",
    "    ###Eliminar elementos al final de la lista\n",
    "    def delete_at_end(self):\n",
    "        if self.start_node is None:\n",
    "            print(\"The list has no element to delete\")\n",
    "            return \n",
    "        if self.start_node.nref is None:\n",
    "            self.start_node = None\n",
    "            return\n",
    "        n = self.start_node\n",
    "        while n.nref is not None:\n",
    "            n = n.nref\n",
    "        n.pref.nref = None\n",
    "        \n",
    "    ###Eliminar un elemento por su valor    \n",
    "    def delete_element_by_value(self, x):\n",
    "        if self.start_node is None:\n",
    "            print(\"The list has no element to delete\")\n",
    "            return \n",
    "        if self.start_node.nref is None:\n",
    "            if self.start_node.item == x:\n",
    "                self.start_node = None\n",
    "            else:\n",
    "                print(\"Item not found\")\n",
    "            return \n",
    "\n",
    "        if self.start_node.item == x:\n",
    "            self.start_node = self.start_node.nref\n",
    "            self.start_node.pref = None\n",
    "            return\n",
    "\n",
    "        n = self.start_node\n",
    "        while n.nref is not None:\n",
    "            if n.item == x:\n",
    "                break;\n",
    "            n = n.nref\n",
    "        if n.nref is not None:\n",
    "            n.pref.nref = n.nref\n",
    "            n.nref.pref = n.pref\n",
    "        else:\n",
    "            if n.item == x:\n",
    "                n.pref.nref = None\n",
    "            else:\n",
    "                print(\"Element not found\")\n",
    "    \n",
    "    ###Invertir el orden de la lista\n",
    "    def reverse_linked_list(self):\n",
    "        if self.start_node is None:\n",
    "            print(\"The list has no element to delete\")\n",
    "            return \n",
    "        p = self.start_node\n",
    "        q = p.nref\n",
    "        p.nref = None\n",
    "        p.pref = q\n",
    "        while q is not None:\n",
    "            q.pref = q.nref\n",
    "            q.nref = p\n",
    "            p = q\n",
    "            q = q.pref\n",
    "        self.start_node = p\n",
    "        "
   ]
  },
  {
   "cell_type": "markdown",
   "id": "43251bfa",
   "metadata": {},
   "source": [
    "# Pruebas sobre la lista doblemente enlazada"
   ]
  },
  {
   "cell_type": "code",
   "execution_count": 20,
   "id": "e7d598de",
   "metadata": {},
   "outputs": [
    {
     "name": "stdout",
     "output_type": "stream",
     "text": [
      "50  \n"
     ]
    }
   ],
   "source": [
    "new_linked_list = DoublyLinkedList()\n",
    "new_linked_list.insert_in_emptylist(50)\n",
    "new_linked_list.traverse_list()"
   ]
  },
  {
   "cell_type": "code",
   "execution_count": 21,
   "id": "e99cdeeb",
   "metadata": {},
   "outputs": [
    {
     "name": "stdout",
     "output_type": "stream",
     "text": [
      "18  \n",
      "5  \n",
      "10  \n",
      "50  \n"
     ]
    }
   ],
   "source": [
    "new_linked_list.insert_at_start(10)\n",
    "new_linked_list.insert_at_start(5)\n",
    "new_linked_list.insert_at_start(18)\n",
    "new_linked_list.traverse_list()"
   ]
  },
  {
   "cell_type": "code",
   "execution_count": 22,
   "id": "a27881ad",
   "metadata": {},
   "outputs": [
    {
     "name": "stdout",
     "output_type": "stream",
     "text": [
      "18  \n",
      "5  \n",
      "10  \n",
      "50  \n",
      "29  \n",
      "39  \n",
      "49  \n"
     ]
    }
   ],
   "source": [
    "new_linked_list.insert_at_end(29)\n",
    "new_linked_list.insert_at_end(39)\n",
    "new_linked_list.insert_at_end(49)\n",
    "new_linked_list.traverse_list()"
   ]
  },
  {
   "cell_type": "code",
   "execution_count": 23,
   "id": "f9cff1bf",
   "metadata": {},
   "outputs": [
    {
     "name": "stdout",
     "output_type": "stream",
     "text": [
      "18  \n",
      "5  \n",
      "10  \n",
      "65  \n",
      "50  \n",
      "100  \n",
      "29  \n",
      "39  \n",
      "49  \n"
     ]
    }
   ],
   "source": [
    "###Insertar elemento después del valor 10\n",
    "new_linked_list.insert_after_item(10, 65)\n",
    "\n",
    "###Insertar elemento antes del valor 29\n",
    "new_linked_list.insert_before_item(29, 100)\n",
    "\n",
    "new_linked_list.traverse_list()"
   ]
  },
  {
   "cell_type": "code",
   "execution_count": 24,
   "id": "2e97a003",
   "metadata": {},
   "outputs": [
    {
     "name": "stdout",
     "output_type": "stream",
     "text": [
      "5  \n",
      "10  \n",
      "50  \n",
      "100  \n",
      "29  \n",
      "39  \n"
     ]
    }
   ],
   "source": [
    "###Eliminar elementos\n",
    "new_linked_list.delete_at_start()\n",
    "new_linked_list.delete_at_end()\n",
    "new_linked_list.delete_element_by_value(65)\n",
    "\n",
    "new_linked_list.traverse_list()"
   ]
  },
  {
   "cell_type": "code",
   "execution_count": 25,
   "id": "52110765",
   "metadata": {},
   "outputs": [
    {
     "name": "stdout",
     "output_type": "stream",
     "text": [
      "39  \n",
      "29  \n",
      "100  \n",
      "50  \n",
      "10  \n",
      "5  \n"
     ]
    }
   ],
   "source": [
    "###Invertir el orden de la lista\n",
    "new_linked_list.reverse_linked_list()\n",
    "new_linked_list.traverse_list()"
   ]
  },
  {
   "cell_type": "code",
   "execution_count": null,
   "id": "ae98e9dc",
   "metadata": {},
   "outputs": [],
   "source": []
  }
 ],
 "metadata": {
  "kernelspec": {
   "display_name": "Python 3 (ipykernel)",
   "language": "python",
   "name": "python3"
  },
  "language_info": {
   "codemirror_mode": {
    "name": "ipython",
    "version": 3
   },
   "file_extension": ".py",
   "mimetype": "text/x-python",
   "name": "python",
   "nbconvert_exporter": "python",
   "pygments_lexer": "ipython3",
   "version": "3.9.13"
  }
 },
 "nbformat": 4,
 "nbformat_minor": 5
}
